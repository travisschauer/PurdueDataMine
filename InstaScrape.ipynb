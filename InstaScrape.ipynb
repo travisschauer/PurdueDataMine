{
 "cells": [
  {
   "cell_type": "markdown",
   "id": "484e47e1",
   "metadata": {},
   "source": [
    "# Packages "
   ]
  },
  {
   "cell_type": "code",
   "execution_count": 1,
   "id": "b3f885c7-78fa-4dfa-86bc-217a6ba1b3f7",
   "metadata": {},
   "outputs": [],
   "source": [
    "#setup packages\n",
    "from selenium import webdriver #v4.5.0\n",
    "from selenium.webdriver.chrome.service import Service\n",
    "from selenium.webdriver.common.keys import Keys\n",
    "from selenium.webdriver.common.action_chains import ActionChains\n",
    "from selenium.webdriver.common.actions.action_builder import ActionBuilder\n",
    "from selenium.webdriver.common.actions.wheel_input import ScrollOrigin\n",
    "import time, urllib.request\n",
    "import requests\n",
    "from webdriver_manager.chrome import ChromeDriverManager\n",
    "from selenium.webdriver import Chrome\n",
    "import pyperclip\n",
    "import pandas as pd\n",
    "from selenium.webdriver.common.by import By\n",
    "import linecache\n",
    "import csv\n",
    "import random"
   ]
  },
  {
   "cell_type": "markdown",
   "id": "df880b6b",
   "metadata": {},
   "source": [
    "# Functions"
   ]
  },
  {
   "cell_type": "code",
   "execution_count": 2,
   "id": "04b74bab",
   "metadata": {},
   "outputs": [],
   "source": [
    "def login(loginUsername, loginPassword):\n",
    "    #navigate homepage to login \n",
    "    time.sleep(random.randint(5, 10))\n",
    "    username=driver.find_element(By.CSS_SELECTOR, \"input[name='username']\")\n",
    "    password=driver.find_element(By.CSS_SELECTOR, \"input[name='password']\")\n",
    "    username.clear()\n",
    "    password.clear()\n",
    "    username.send_keys(loginUsername)\n",
    "    time.sleep(random.randint(5, 10))\n",
    "    password.send_keys(loginPassword)\n",
    "    time.sleep(random.randint(1, 5))\n",
    "    login = driver.find_element(By.CSS_SELECTOR, \"button[type='submit']\").click()\n",
    "    \n",
    "    #save your login info\n",
    "    time.sleep(random.randint(10, 17))\n",
    "    notnow = driver.find_element(By.XPATH, \"//button[contains(text(), 'Not Now')]\").click()\n",
    "    #turn on notif\n",
    "    time.sleep(random.randint(13, 15))\n",
    "    notnow2 = driver.find_element(By.XPATH, \"//button[contains(text(), 'Not Now')]\").click()"
   ]
  },
  {
   "cell_type": "code",
   "execution_count": 3,
   "id": "83e18a0d",
   "metadata": {},
   "outputs": [],
   "source": [
    "def search(accountName):\n",
    "    #navigate to instagram page for account\n",
    "    time.sleep(random.randint(3, 7))\n",
    "    driver.get(f'https://www.instagram.com/{accountName}/')"
   ]
  },
  {
   "cell_type": "code",
   "execution_count": 4,
   "id": "cf8e0455",
   "metadata": {},
   "outputs": [],
   "source": [
    "def navigateFollowerList(accountName):\n",
    "    time.sleep(random.randint(3, 7))\n",
    "    followersNum = getFollowerCount()\n",
    "    \n",
    "    #Select Followers Button\n",
    "    driver.get(f'https://www.instagram.com/{accountName}/followers/')\n",
    "    \n",
    "    #Infinite Scoll Pop-Up\n",
    "    time.sleep(random.randint(3, 7))\n",
    "    scr1 = driver.find_element(By.XPATH,\"/html/body/div[2]/div/div/div[2]/div/div/div[1]/div/div[2]/div/div/div/div/div[2]/div/div/div[2]\")\n",
    "    t_end = time.time() + 60 * followersNum/200 # 200 followers per minute, 650 was too fast\n",
    "    while time.time() < t_end:\n",
    "        driver.execute_script(\"arguments[0].scrollTop = arguments[0].scrollHeight\", scr1)\n",
    "    time.sleep(3)"
   ]
  },
  {
   "cell_type": "code",
   "execution_count": 5,
   "id": "f8eb3809",
   "metadata": {},
   "outputs": [],
   "source": [
    "def getFollowerList():\n",
    "    #CTRL A to select all text\n",
    "    ActionChains(driver)\\\n",
    "        .key_down(Keys.CONTROL)\\\n",
    "        .send_keys(\"a\")\\\n",
    "        .perform()\n",
    "    \n",
    "    #CTRL C to copy all text\n",
    "    ActionChains(driver)\\\n",
    "        .key_down(Keys.CONTROL)\\\n",
    "        .send_keys(\"c\")\\\n",
    "        .perform()\n",
    "    \n",
    "    # copy followers\n",
    "    s = pyperclip.paste()\n",
    "    return s"
   ]
  },
  {
   "cell_type": "code",
   "execution_count": 6,
   "id": "6b9fec45",
   "metadata": {},
   "outputs": [],
   "source": [
    "def getFollowerCount():\n",
    "    time.sleep(random.randint(3, 7))\n",
    "    followerCount = driver.find_element(By.XPATH, \"/html/body/div[2]/div/div/div[1]/div/div/div/div[1]/div[1]/div[2]/section/main/div/header/section/ul/li[2]/a/div/span/span\").text\n",
    "    followerCount = int(followerCount.replace(',', ''))\n",
    "    return followerCount"
   ]
  },
  {
   "cell_type": "code",
   "execution_count": 7,
   "id": "07cec2d5",
   "metadata": {},
   "outputs": [],
   "source": [
    "def getFollowingCount():\n",
    "    time.sleep(random.randint(3, 7))\n",
    "    followingCount = driver.find_element(By.XPATH, \"/html/body/div[2]/div/div/div[1]/div/div/div/div[1]/div[1]/div[2]/section/main/div/header/section/ul/li[3]/a/div/span/span\").text\n",
    "    followingCount = int(followingCount.replace(',', ''))\n",
    "    return followingCount"
   ]
  },
  {
   "cell_type": "code",
   "execution_count": 16,
   "id": "1a3d5c9c",
   "metadata": {},
   "outputs": [],
   "source": [
    "def parseText(accountName):\n",
    "    # delete blank lines\n",
    "    with open(f'raw/{accountName}_rawFile.txt','r', encoding=\"utf-8\") as infile, open(f'raw/{accountName}_deletedLines.txt','w', encoding=\"utf-8\") as outfile:\n",
    "        for line in infile:\n",
    "            if not line.strip(): continue\n",
    "            outfile.write(line)\n",
    "    \n",
    "    #close files\n",
    "    infile.close()\n",
    "    outfile.close()\n",
    "    \n",
    "    #open raw data with lines deleted\n",
    "    rawFile = open(f'raw/{accountName}_deletedLines.txt','r', encoding=\"utf-8\")\n",
    "            \n",
    "    #line counter\n",
    "    lineCount = 0\n",
    "\n",
    "    #determine the line num for followers\n",
    "    while True:\n",
    "        lineCount += 1\n",
    "        line = rawFile.readline()\n",
    "        if line.strip() == \"Followers\":\n",
    "            rawFile.close()\n",
    "            break\n",
    "        if not line:\n",
    "            print(\"Followers not Found.\")\n",
    "            rawFile.close()\n",
    "            break\n",
    "\n",
    "    # create file of just follower names\n",
    "    followerFile = open(f'follower/{accountName}_followerFile.txt','w', encoding=\"utf-8\")\n",
    "    while True:\n",
    "        line = linecache.getline(f'raw/{accountName}_deletedLines.txt', lineCount)\n",
    "    \n",
    "        # grab follower names and write to new file\n",
    "        if \"profile picture\" in line:\n",
    "            line = line.split(\"'\")[0]\n",
    "            followerFile.write(\"{}\\n\".format(line))\n",
    "        \n",
    "        if not line:\n",
    "            #print(\"Parsing Complete.\")\n",
    "            followerFile.close()\n",
    "            break\n",
    "    \n",
    "        lineCount += 1\n",
    "\n",
    "    #close files\n",
    "    rawFile.close()\n",
    "    followerFile.close()"
   ]
  },
  {
   "cell_type": "code",
   "execution_count": 9,
   "id": "0e81de2e",
   "metadata": {},
   "outputs": [],
   "source": [
    "def setupCSV():\n",
    "    csvFile = open('edges.csv','w',encoding=\"utf-8\")\n",
    "    csvWriter = csv.writer(csvFile)\n",
    "    \n",
    "    #create header\n",
    "    csvWriter.writerow(['target','source','type','target_followers','target_following'])\n",
    "    \n",
    "    csvFile.close()"
   ]
  },
  {
   "cell_type": "code",
   "execution_count": 23,
   "id": "84489cac",
   "metadata": {},
   "outputs": [],
   "source": [
    "def updateCSV(accountName, targetFollowers, targetFollowing):\n",
    "    #open followers\n",
    "    followerFile = open(f'follower/{accountName}_followerFile.txt','r', encoding=\"utf-8\")\n",
    "    Lines = followerFile.readlines()\n",
    "    \n",
    "    for line in Lines:\n",
    "        rowUpdate(accountName, line.strip(), targetFollowers, targetFollowing)\n",
    "    \n",
    "    #close file\n",
    "    followerFile.close()"
   ]
  },
  {
   "cell_type": "code",
   "execution_count": 11,
   "id": "72636fcb",
   "metadata": {},
   "outputs": [],
   "source": [
    "def rowUpdate(accountName, sourceName, targetFollowers, targetFollowing):\n",
    "    # row data\n",
    "    rowData = [accountName, sourceName, 'directed', targetFollowers, targetFollowing]\n",
    "    \n",
    "    # write data\n",
    "    with open('edges.csv','a', encoding=\"utf-8\") as csvFile:\n",
    "        csvWriter = csv.writer(csvFile)\n",
    "        csvWriter.writerow(rowData)\n",
    "        csvFile.close()"
   ]
  },
  {
   "cell_type": "code",
   "execution_count": 12,
   "id": "0422dde1",
   "metadata": {},
   "outputs": [],
   "source": [
    "def getFollowers(followerAccount):\n",
    "    # navigate to page \n",
    "    search(followerAccount)\n",
    "    \n",
    "    # check if private\n",
    "    time.sleep(random.randint(3, 8))\n",
    "    try:\n",
    "        target = driver.find_element(By.XPATH, \"/html/body/div[2]/div/div/div/div[1]/div/div/div/div[1]/div[1]/div[2]/section/main/div/div/article/div/div/h2\")\n",
    "        isPublic = False\n",
    "        print(\"Account is private\")\n",
    "    except:\n",
    "        isPublic = True\n",
    "        print(\"Account is public\")\n",
    "    \n",
    "    # build follower list\n",
    "    if isPublic == True:\n",
    "        # get target followers/following\n",
    "        targetFollowers = getFollowerCount()\n",
    "        targetFollowing = getFollowingCount()\n",
    "        \n",
    "        # navigate follower list\n",
    "        navigateFollowerList(followerAccount)\n",
    "        \n",
    "        # create text file\n",
    "        subFollowerList = getFollowerList()\n",
    "        with open(f'raw/{followerAccount}_rawFile.txt','w', encoding=\"utf-8\") as g:\n",
    "            g.write(subFollowerList)\n",
    "            g.close()\n",
    "        \n",
    "        #parse\n",
    "        parseText(followerAccount)\n",
    "        \n",
    "        #update CSV\n",
    "        updateCSV(followerAccount, targetFollowers, targetFollowing)"
   ]
  },
  {
   "cell_type": "markdown",
   "id": "69e97a6f",
   "metadata": {},
   "source": [
    "# Main Code"
   ]
  },
  {
   "cell_type": "code",
   "execution_count": 24,
   "id": "7b735724",
   "metadata": {},
   "outputs": [
    {
     "name": "stdout",
     "output_type": "stream",
     "text": [
      "srijaupec596870\n",
      "Account is public\n",
      "adamkososki\n",
      "Account is public\n",
      "bbrambo\n"
     ]
    },
    {
     "ename": "KeyboardInterrupt",
     "evalue": "",
     "output_type": "error",
     "traceback": [
      "\u001b[1;31m---------------------------------------------------------------------------\u001b[0m",
      "\u001b[1;31mKeyboardInterrupt\u001b[0m                         Traceback (most recent call last)",
      "\u001b[1;32m~\\AppData\\Local\\Temp\\ipykernel_20908\\1698454779.py\u001b[0m in \u001b[0;36m<module>\u001b[1;34m\u001b[0m\n\u001b[0;32m     38\u001b[0m     \u001b[0maccountName\u001b[0m \u001b[1;33m=\u001b[0m \u001b[0medgesDataFrame\u001b[0m\u001b[1;33m[\u001b[0m\u001b[1;34m'source'\u001b[0m\u001b[1;33m]\u001b[0m\u001b[1;33m[\u001b[0m\u001b[0maccountNameCounter\u001b[0m\u001b[1;33m]\u001b[0m\u001b[1;33m\u001b[0m\u001b[1;33m\u001b[0m\u001b[0m\n\u001b[0;32m     39\u001b[0m     \u001b[0mprint\u001b[0m\u001b[1;33m(\u001b[0m\u001b[0maccountName\u001b[0m\u001b[1;33m)\u001b[0m\u001b[1;33m\u001b[0m\u001b[1;33m\u001b[0m\u001b[0m\n\u001b[1;32m---> 40\u001b[1;33m     \u001b[0mtime\u001b[0m\u001b[1;33m.\u001b[0m\u001b[0msleep\u001b[0m\u001b[1;33m(\u001b[0m\u001b[0mrandom\u001b[0m\u001b[1;33m.\u001b[0m\u001b[0mrandint\u001b[0m\u001b[1;33m(\u001b[0m\u001b[1;36m60\u001b[0m\u001b[1;33m,\u001b[0m \u001b[1;36m140\u001b[0m\u001b[1;33m)\u001b[0m\u001b[1;33m)\u001b[0m\u001b[1;33m\u001b[0m\u001b[1;33m\u001b[0m\u001b[0m\n\u001b[0m\u001b[0;32m     41\u001b[0m     \u001b[0mgetFollowers\u001b[0m\u001b[1;33m(\u001b[0m\u001b[0maccountName\u001b[0m\u001b[1;33m)\u001b[0m\u001b[1;33m\u001b[0m\u001b[1;33m\u001b[0m\u001b[0m\n\u001b[0;32m     42\u001b[0m     \u001b[0maccountNameCounter\u001b[0m \u001b[1;33m+=\u001b[0m \u001b[1;36m1\u001b[0m\u001b[1;33m\u001b[0m\u001b[1;33m\u001b[0m\u001b[0m\n",
      "\u001b[1;31mKeyboardInterrupt\u001b[0m: "
     ]
    }
   ],
   "source": [
    "# launch chrome and navigate to instagram\n",
    "driver = webdriver.Chrome(service=Service(ChromeDriverManager().install()))\n",
    "driver.get(\"https://www.instagram.com/\")\n",
    "\n",
    "# login into instagram, fill in username/password as needed\n",
    "login(\"username\",\"password!\") #username, password\n",
    "\n",
    "# search and navigate to account\n",
    "accountName = \"accountName\" #initial account name here\n",
    "search(accountName)\n",
    "\n",
    "# get target followers/following\n",
    "targetFollowers = getFollowerCount()\n",
    "targetFollowing = getFollowingCount()\n",
    "\n",
    "# navigate followers\n",
    "navigateFollowerList(accountName)\n",
    "\n",
    "# create text file\n",
    "followerList = getFollowerList()\n",
    "with open(f'raw/{accountName}_rawFile.txt','w', encoding=\"utf-8\") as g:\n",
    "    g.write(followerList)\n",
    "    g.close()\n",
    "    \n",
    "# parse text file \n",
    "parseText(accountName)\n",
    "\n",
    "# setup CSV file\n",
    "setupCSV()\n",
    "updateCSV(accountName, targetFollowers, targetFollowing)\n",
    "\n",
    "## Create a dataframe \n",
    "edgesDataFrame = pd.read_csv(\"edges.csv\")\n",
    "accountNameCounter = 0\n",
    "\n",
    "#Do again for followers of central\n",
    "while accountNameCounter <= edgesDataFrame.shape[0]:\n",
    "    accountName = edgesDataFrame['source'][accountNameCounter]\n",
    "    print(accountName)\n",
    "    time.sleep(random.randint(60, 140))\n",
    "    getFollowers(accountName)\n",
    "    accountNameCounter += 1\n",
    "    \n",
    "#do recursivley for all accounts\n",
    "    #create list of used accounts\n",
    "    #search CSV first columun until we get an account not in the list\n",
    "    # repeat above"
   ]
  }
 ],
 "metadata": {
  "kernelspec": {
   "display_name": "Python 3 (ipykernel)",
   "language": "python",
   "name": "python3"
  },
  "language_info": {
   "codemirror_mode": {
    "name": "ipython",
    "version": 3
   },
   "file_extension": ".py",
   "mimetype": "text/x-python",
   "name": "python",
   "nbconvert_exporter": "python",
   "pygments_lexer": "ipython3",
   "version": "3.9.13"
  }
 },
 "nbformat": 4,
 "nbformat_minor": 5
}
